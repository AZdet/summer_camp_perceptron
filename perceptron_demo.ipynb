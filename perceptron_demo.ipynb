{
  "cells": [
    {
      "metadata": {
        "trusted": true
      },
      "cell_type": "code",
      "source": "import numpy as np\nfrom matplotlib import pyplot as plt",
      "execution_count": 1,
      "outputs": []
    },
    {
      "metadata": {
        "trusted": true
      },
      "cell_type": "code",
      "source": "# a 2D example\nclass PerceptronExample:\n    def __init__(self, limit=50):\n        # the decision boundary is y = np.dot(self.w, x)\n        self.w = np.array([0, 0], dtype=np.float64)\n        self.pts = None\n        self.labels = None\n        self.limit = limit\n        self.x = np.linspace(-self.limit, self.limit)\n        \n    \n    def add_pts(self, pt, label):\n        if self.pts is None:\n            self.pts = np.array(pt).reshape(1,2)\n        else:\n            self.pts = np.append(self.pts, np.array(pt).reshape(1,2), axis=0)\n        if self.labels is None:\n            self.labels = np.array([label])\n        else:\n            self.labels = np.append(self.labels, label)\n        \n        \n    def reset_pts(self):\n        self.pts = None\n        self.labels = None\n        \n        \n    def plot(self):\n        ax = plt.gca()\n        ax.set_xlim(-self.limit, self.limit)\n        ax.set_ylim(-self.limit, self.limit)\n        self.plot_pts()\n        self.plot_decision_boundary()\n        plt.show()\n        \n    def plot_pts(self):\n        for i in range(len(self.pts)):\n            if self.labels[i] == 1:\n                plt.plot(self.pts[i, 0], self.pts[i, 1], 'ro')\n            else:\n                plt.plot(self.pts[i, 0], self.pts[i, 1], 'bx')\n        \n                \n    def plot_decision_boundary(self):\n        if self.w[1] == 0:\n            y = np.zeros_like(self.x)\n        else:\n            y = -(self.x * self.w[0]) / self.w[1]\n        plt.plot(self.x, y)\n        plt.fill_between(self.x, y, self.limit, alpha=0.7)\n        \n        \n    def update(self):\n        all_done = True\n        for i in range(len(self.pts)):\n            if np.dot(self.pts[i], self.w) * self.labels[i] <= 0:\n                self.w += self.pts[i] * self.labels[i]\n                all_done = False\n                break\n        return all_done",
      "execution_count": 2,
      "outputs": []
    },
    {
      "metadata": {
        "trusted": true
      },
      "cell_type": "code",
      "source": "import ipywidgets as widgets\nfrom ipywidgets import HBox, VBox\nfrom IPython.display import display\nlimit = 50\nx1 = widgets.BoundedFloatText(10.0, description='x1: ', min=-limit, max=limit)\nx2 = widgets.BoundedFloatText(30.0, description='x2: ', min=-limit, max=limit)\nw1 = widgets.FloatText(0.0, description='w1: ')\nw2 = widgets.FloatText(0.0, description='w2: ')\nlabel = widgets.RadioButtons(\n    options=['-1', '1'],\n    description='label:',\n    disabled=False\n)\nadd = widgets.Button(\n    description='add a point',\n    disabled=False,\n    button_style='',\n)\nreset = widgets.Button(\n    description='reset points',\n    disabled=False,\n    button_style='',\n)\nplot = widgets.Button(\n    description='plot',\n    disabled=False,\n    button_style='',\n)\nupdate = widgets.Button(\n    description='update',\n    disabled=False,\n    button_style='',\n)\nout = widgets.Button(\n    description='print weight',\n    disabled=False,\n    button_style='',\n)\n\nset_w = widgets.Button(\n    description='set weight',\n    disabled=False,\n    button_style='',\n)\nex = PerceptronExample()\n\ndef add_callback(event):\n    ex.add_pts((x1.value, x2.value), float(label.value))\n    \ndef reset_callback(event):\n    ex.reset_pts()\n    \ndef plot_callback(event):\n    ex.plot()\n\ndef update_callback(event):\n    done = ex.update()\n    w1.value = ex.w[0]\n    w2.value = ex.w[1]\n    ex.plot()\n    print('Done: ', done)\n\ndef out_callback(event):\n    print('weight: ', ex.w)\n\ndef set_callback(event):\n    ex.weight = np.array([w1.value, w2.value])\n    \nadd.on_click(add_callback)\nreset.on_click(reset_callback)\nplot.on_click(plot_callback)\nupdate.on_click(update_callback)\nout.on_click(out_callback)\ndisplay(HBox([VBox([x1, x2, label]), VBox([w1, w2])]))\ndisplay(HBox([add, reset, plot, update, set_w]))\n",
      "execution_count": 4,
      "outputs": [
        {
          "output_type": "display_data",
          "data": {
            "application/vnd.jupyter.widget-view+json": {
              "model_id": "979d0d531b4a49f58976499206baa09d",
              "version_minor": 0,
              "version_major": 2
            },
            "text/plain": "HBox(children=(VBox(children=(BoundedFloatText(value=10.0, description='x1: ', max=50.0, min=-50.0), BoundedFl…"
          },
          "metadata": {}
        },
        {
          "output_type": "display_data",
          "data": {
            "application/vnd.jupyter.widget-view+json": {
              "model_id": "21c052c527994c418766eb4aa97d9120",
              "version_minor": 0,
              "version_major": 2
            },
            "text/plain": "HBox(children=(Button(description='add a point', style=ButtonStyle()), Button(description='reset points', styl…"
          },
          "metadata": {}
        }
      ]
    }
  ],
  "metadata": {
    "kernelspec": {
      "name": "python36",
      "display_name": "Python 3.6",
      "language": "python"
    },
    "language_info": {
      "mimetype": "text/x-python",
      "nbconvert_exporter": "python",
      "name": "python",
      "pygments_lexer": "ipython3",
      "version": "3.6.6",
      "file_extension": ".py",
      "codemirror_mode": {
        "version": 3,
        "name": "ipython"
      }
    }
  },
  "nbformat": 4,
  "nbformat_minor": 2
}